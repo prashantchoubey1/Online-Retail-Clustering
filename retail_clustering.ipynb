{
 "metadata": {
  "language_info": {
   "codemirror_mode": {
    "name": "ipython",
    "version": 3
   },
   "file_extension": ".py",
   "mimetype": "text/x-python",
   "name": "python",
   "nbconvert_exporter": "python",
   "pygments_lexer": "ipython3",
   "version": "3.7.9"
  },
  "orig_nbformat": 2,
  "kernelspec": {
   "name": "python379jvsc74a57bd033613db6a202abc63c6593797abff71ff15ca8d6570a73387c477d2dcf328cb3",
   "display_name": "Python 3.7.9 64-bit ('online-retail-cluster': virtualenvwrapper)"
  },
  "metadata": {
   "interpreter": {
    "hash": "33613db6a202abc63c6593797abff71ff15ca8d6570a73387c477d2dcf328cb3"
   }
  }
 },
 "nbformat": 4,
 "nbformat_minor": 2,
 "cells": [
  {
   "source": [
    "# <center>Online Retail Clustering</center>"
   ],
   "cell_type": "markdown",
   "metadata": {}
  },
  {
   "source": [
    "## Importing libraries"
   ],
   "cell_type": "markdown",
   "metadata": {}
  },
  {
   "cell_type": "code",
   "execution_count": null,
   "metadata": {},
   "outputs": [],
   "source": [
    "import pandas as pd\n",
    "import numpy as np\n",
    "import plotly.offline as plt\n",
    "import plotly.graph_objs as go"
   ]
  },
  {
   "source": [
    "## Reading dataframe"
   ],
   "cell_type": "markdown",
   "metadata": {}
  },
  {
   "cell_type": "code",
   "execution_count": null,
   "metadata": {},
   "outputs": [],
   "source": [
    "# Pulling invoice data\n",
    "df_retail = pd.read_csv(r'C:\\Users\\Prashant\\Documents\\Machine Learing Workspace\\Online-Retail-Clustering\\.gitignore\\OnlineRetail.csv')"
   ]
  },
  {
   "cell_type": "code",
   "execution_count": null,
   "metadata": {},
   "outputs": [],
   "source": [
    "df_retail.head()"
   ]
  },
  {
   "source": [
    "## Null value treatment"
   ],
   "cell_type": "markdown",
   "metadata": {}
  },
  {
   "cell_type": "code",
   "execution_count": null,
   "metadata": {},
   "outputs": [],
   "source": [
    "df_retail.info()"
   ]
  },
  {
   "cell_type": "code",
   "execution_count": null,
   "metadata": {},
   "outputs": [],
   "source": [
    "print('Number of na in customer id =' ,df_retail['CustomerID'].isna().sum())\n",
    "print('Number of null in customer id =' ,df_retail['CustomerID'].isnull().sum())"
   ]
  },
  {
   "cell_type": "code",
   "execution_count": null,
   "metadata": {},
   "outputs": [],
   "source": [
    "df_retail['CustomerID'].fillna(0,inplace=True)\n",
    "df_retail['Description'].fillna('No description',inplace=True)\n",
    "df_retail.info()"
   ]
  },
  {
   "source": [
    "## Mathematical implementation of K means clustering techinique\n",
    "1.Pick K points as the initial centroids from the data set, either randomly or the first K.<br>\n",
    "2.Find the Euclidean distance of each point in the data set with the identified K points — cluster centroids.<br>\n",
    "3.Assign each data point to the closest centroid using the distance found in the previous step.<br>\n",
    "4.Find the new centroid by taking the average of the points in each cluster group.<br>\n",
    "5.Repeat iteration till the centroids don’t change.<br>\n"
   ],
   "cell_type": "markdown",
   "metadata": {}
  },
  {
   "cell_type": "code",
   "execution_count": null,
   "metadata": {},
   "outputs": [],
   "source": [
    "# Defining centroids\n",
    "k = 5\n",
    "\n",
    "# Filtering the columns required for clustering\n",
    "df_retail_clust = df_retail.loc[:,['Quantity','UnitPrice']]\n",
    "\n",
    "#Copying dataframe\n",
    "data=df_retail_clust\n",
    "data.head()"
   ]
  },
  {
   "cell_type": "code",
   "execution_count": null,
   "metadata": {},
   "outputs": [],
   "source": [
    "# Storing the sample dataframe to determine the number of centroids\n",
    "k_means = (data.sample(k, replace=False))    # store current means\n",
    "k_means2 = pd.DataFrame()                    # store previous means\n",
    "clusters = pd.DataFrame()    "
   ]
  },
  {
   "cell_type": "code",
   "execution_count": null,
   "metadata": {
    "tags": []
   },
   "outputs": [],
   "source": [
    "while not k_means2.equals(k_means):\n",
    "    # distance matrix (euclidean distance)\n",
    "    cluster_count = 0\n",
    "    for idx, k_mean in k_means.iterrows():\n",
    "        clusters[cluster_count] = (data[k_means.columns] - np.array(k_mean)).pow(2).sum(1).pow(0.5)\n",
    "        cluster_count += 1\n",
    "\n",
    "    # update cluster\n",
    "    data['MDCluster'] = clusters.idxmin(axis=1)\n",
    "\n",
    "    # store previous cluster\n",
    "    k_means2 = k_means\n",
    "    k_means = pd.DataFrame()\n",
    "    k_means_frame = data.groupby('MDCluster').agg(np.mean)\n",
    "    k_means[k_means_frame.columns] = k_means_frame[k_means_frame.columns]"
   ]
  },
  {
   "source": [
    "## Plotting clusters "
   ],
   "cell_type": "markdown",
   "metadata": {}
  },
  {
   "cell_type": "code",
   "execution_count": null,
   "metadata": {},
   "outputs": [],
   "source": [
    "# plotting\n",
    "import matplotlib.pyplot as plt \n",
    "plt.figure(figsize=(10,10))\n",
    "plt.scatter(data.iloc[:,0],data.iloc[:,1],c=data.iloc[:,2] ,s=50, cmap='viridis')\n",
    "plt.show()"
   ]
  },
  {
   "cell_type": "code",
   "execution_count": null,
   "metadata": {},
   "outputs": [],
   "source": []
  }
 ]
}